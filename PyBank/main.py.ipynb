{
 "cells": [
  {
   "cell_type": "code",
   "execution_count": 2,
   "id": "afee79c5",
   "metadata": {},
   "outputs": [],
   "source": [
    "import os\n",
    "import csv"
   ]
  },
  {
   "cell_type": "code",
   "execution_count": 3,
   "id": "82a02546",
   "metadata": {},
   "outputs": [],
   "source": [
    "# Set path for file\n",
    "csvpath = os.path.join(\"Resources\", \"budget_data.csv\")"
   ]
  },
  {
   "cell_type": "code",
   "execution_count": 4,
   "id": "481d742b",
   "metadata": {},
   "outputs": [],
   "source": [
    "# Lists to store data\n",
    "months = []\n",
    "profit = []\n",
    "profit_changes = []"
   ]
  },
  {
   "cell_type": "code",
   "execution_count": 5,
   "id": "b66f8d2b",
   "metadata": {},
   "outputs": [
    {
     "name": "stdout",
     "output_type": "stream",
     "text": [
      "CSV Header: ['Date', 'Profit/Losses']\n"
     ]
    }
   ],
   "source": [
    "# Open csv files\n",
    "with open(csvpath) as csvfile:\n",
    "    csvreader = csv.reader(csvfile, delimiter=',')\n",
    "    \n",
    "    # Skip header when reading data\n",
    "    csv_header = next(csvreader)\n",
    "    print(f\"CSV Header: {csv_header}\")\n",
    "    \n",
    "    for row in csvreader:\n",
    "        # Add months\n",
    "        months.append(row[0])\n",
    "        \n",
    "        # Add profit/loss\n",
    "        profit.append(int(row[1]))"
   ]
  },
  {
   "cell_type": "code",
   "execution_count": 6,
   "id": "3c86a45e",
   "metadata": {
    "scrolled": true
   },
   "outputs": [
    {
     "name": "stdout",
     "output_type": "stream",
     "text": [
      "86\n"
     ]
    }
   ],
   "source": [
    "# Get sum of total months\n",
    "total_months = len(months)\n",
    "print(total_months)"
   ]
  },
  {
   "cell_type": "code",
   "execution_count": 7,
   "id": "edd82716",
   "metadata": {},
   "outputs": [
    {
     "name": "stdout",
     "output_type": "stream",
     "text": [
      "22564198\n"
     ]
    }
   ],
   "source": [
    "# Get sum of profits\n",
    "total_profit = sum(profit)\n",
    "print(total_profit)"
   ]
  },
  {
   "cell_type": "code",
   "execution_count": 8,
   "id": "1cb38134",
   "metadata": {},
   "outputs": [
    {
     "name": "stdout",
     "output_type": "stream",
     "text": [
      "Average change in profit: -8311.11\n"
     ]
    }
   ],
   "source": [
    "# Find the changes in profit and loss over the entire period\n",
    "for i in range(len(profit)-1):\n",
    "    profit_changes.append(profit[i + 1] - profit[i])\n",
    "\n",
    "# Find the average of those changes\n",
    "print(f\"Average change in profit: {round(sum(profit_changes)/len(profit_changes),2)}\")"
   ]
  },
  {
   "cell_type": "code",
   "execution_count": 9,
   "id": "62de3892",
   "metadata": {
    "scrolled": false
   },
   "outputs": [
    {
     "name": "stdout",
     "output_type": "stream",
     "text": [
      "Greatest increase in profit: Aug-16 ($1862002)\n"
     ]
    }
   ],
   "source": [
    "# Find the greatest increase in profits (include date and amount)\n",
    "greatest_increase_index = profit_changes.index(max(profit_changes)) + 1\n",
    "greatest_increase_date = months[greatest_increase_index]\n",
    "greatest_increase_amount = profit_changes[greatest_increase_index - 1]\n",
    "print(f\"Greatest increase in profit: {greatest_increase_date} (${greatest_increase_amount})\") "
   ]
  },
  {
   "cell_type": "code",
   "execution_count": 10,
   "id": "fc1203fb",
   "metadata": {},
   "outputs": [
    {
     "name": "stdout",
     "output_type": "stream",
     "text": [
      "Greatest decrease in profit: Feb-14 ($-1825558)\n"
     ]
    }
   ],
   "source": [
    "# Find the greatest decrease in profits (include date and amount)\n",
    "greatest_decrease_index = profit_changes.index(min(profit_changes)) + 1\n",
    "greatest_decrease_date = months[greatest_decrease_index]\n",
    "greatest_decrease_amount = profit_changes[greatest_decrease_index - 1]\n",
    "print(f\"Greatest decrease in profit: {greatest_decrease_date} (${greatest_decrease_amount})\")"
   ]
  },
  {
   "cell_type": "code",
   "execution_count": 11,
   "id": "a54e8747",
   "metadata": {
    "scrolled": false
   },
   "outputs": [
    {
     "name": "stdout",
     "output_type": "stream",
     "text": [
      "Financial Analysis\n",
      "----------------------------\n",
      "Total Months: 86\n",
      "Total: $22564198\n",
      "Average Change: $-8311.11\n",
      "Greatest Increase in Profits: Aug-16 ($1862002)\n",
      "Greatest Decrease in Profits: Feb-14 ($-1825558)\n"
     ]
    }
   ],
   "source": [
    "# Print found values and ensure code is running smoothly\n",
    "print(\"Financial Analysis\")\n",
    "print(\"----------------------------\")\n",
    "print(f\"Total Months: {total_months}\")\n",
    "print(f\"Total: ${total_profit}\")\n",
    "print(f\"Average Change: ${round(sum(profit_changes)/len(profit_changes),2)}\")\n",
    "print(f\"Greatest Increase in Profits: {greatest_increase_date} (${greatest_increase_amount})\")\n",
    "print(f\"Greatest Decrease in Profits: {greatest_decrease_date} (${greatest_decrease_amount})\")"
   ]
  },
  {
   "cell_type": "code",
   "execution_count": 12,
   "id": "7951bd8f",
   "metadata": {},
   "outputs": [],
   "source": [
    "# Export to a text file\n",
    "output_file = os.path.join(\"analysis\", \"Financial_Analysis.txt\")\n",
    "with open(output_file, \"w\") as txtfile:\n",
    "    txtfile.write(\"Financial Analysis\\n\")\n",
    "    txtfile.write(\"----------------------------\\n\")\n",
    "    txtfile.write(f\"Total Months: {total_months}\\n\")\n",
    "    txtfile.write(f\"Total: ${total_profit}\\n\")\n",
    "    txtfile.write(f\"Average Change: ${round(sum(profit_changes)/len(profit_changes),2)}\\n\")\n",
    "    txtfile.write(f\"Greatest Increase in Profits: {greatest_increase_date} (${greatest_increase_amount})\\n\")\n",
    "    txtfile.write(f\"Greatest Decrease in Profits: {greatest_decrease_date} (${greatest_decrease_amount})\")"
   ]
  },
  {
   "cell_type": "code",
   "execution_count": null,
   "id": "845cbd04",
   "metadata": {},
   "outputs": [],
   "source": []
  }
 ],
 "metadata": {
  "kernelspec": {
   "display_name": "Python 3 (ipykernel)",
   "language": "python",
   "name": "python3"
  },
  "language_info": {
   "codemirror_mode": {
    "name": "ipython",
    "version": 3
   },
   "file_extension": ".py",
   "mimetype": "text/x-python",
   "name": "python",
   "nbconvert_exporter": "python",
   "pygments_lexer": "ipython3",
   "version": "3.10.13"
  }
 },
 "nbformat": 4,
 "nbformat_minor": 5
}
