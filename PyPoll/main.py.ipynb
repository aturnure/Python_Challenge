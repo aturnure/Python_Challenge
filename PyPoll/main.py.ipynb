{
 "cells": [
  {
   "cell_type": "code",
   "execution_count": 47,
   "id": "25c1834e",
   "metadata": {},
   "outputs": [],
   "source": [
    "import os\n",
    "import csv"
   ]
  },
  {
   "cell_type": "code",
   "execution_count": 48,
   "id": "01ea0fc6",
   "metadata": {},
   "outputs": [],
   "source": [
    "# Set path for file\n",
    "csvpath = os.path.join(\"Resources\", \"election_data.csv\")"
   ]
  },
  {
   "cell_type": "code",
   "execution_count": 49,
   "id": "eece0009",
   "metadata": {},
   "outputs": [],
   "source": [
    "# Lists to store data\n",
    "# Define unique voters as set to count each uniquely\n",
    "unique_voters = set()\n",
    "candidates = []\n",
    "\n",
    "# Create dictionary to store number of votes per candidate\n",
    "candidate_count ={}"
   ]
  },
  {
   "cell_type": "code",
   "execution_count": 50,
   "id": "6ef1042b",
   "metadata": {},
   "outputs": [
    {
     "name": "stdout",
     "output_type": "stream",
     "text": [
      "CSV Header: ['Ballot ID', 'County', 'Candidate']\n",
      "Total Votes: 369711\n",
      "Candidates and Their Votes:\n",
      "Charles Casper Stockham: 85213\n",
      " 23.049%\n",
      "Diana DeGette: 272892\n",
      " 73.812%\n",
      "Raymon Anthony Doane: 11606\n",
      " 3.139%\n"
     ]
    }
   ],
   "source": [
    "# Open the CSV\n",
    "with open(csvpath) as csvfile:\n",
    "    csvreader = csv.reader(csvfile, delimiter=',')\n",
    "    \n",
    "    # Skip header when reading data\n",
    "    csv_header = next(csvreader)\n",
    "    print(f\"CSV Header: {csv_header}\")\n",
    "    \n",
    "    for row in csvreader:\n",
    "        # Add total number of votes\n",
    "        unique_voters.add(row[0])\n",
    "        \n",
    "        # Add candidates to the list\n",
    "        candidate_name = row[2]\n",
    "        if candidate_name not in candidates:\n",
    "            candidates.append(candidate_name)\n",
    "        \n",
    "        # Count the votes for each candidate\n",
    "        if candidate_name not in candidate_count:\n",
    "            candidate_count[candidate_name] = 1\n",
    "        else:\n",
    "            candidate_count[candidate_name] += 1\n",
    "\n",
    "# Get sum of total votes\n",
    "total_votes = len(unique_voters)\n",
    "\n",
    "# Print number of votes to check correctness of code\n",
    "print(f\"Total Votes: {total_votes}\") \n",
    "\n",
    "# Get list of candidates names and votes\n",
    "print(f\"Candidates and Their Votes:\")\n",
    "for candidate in candidates:\n",
    "    votes = candidate_count[candidate]\n",
    "    percentage = (votes / total_votes) * 100\n",
    "    \n",
    "    # Print values to check code\n",
    "    print(f\"{candidate}: {candidate_count[candidate]}\")\n",
    "    print(f\"{percentage: .3f}%\")\n"
   ]
  },
  {
   "cell_type": "code",
   "execution_count": 51,
   "id": "5b054410",
   "metadata": {},
   "outputs": [
    {
     "name": "stdout",
     "output_type": "stream",
     "text": [
      "Diana DeGette\n"
     ]
    }
   ],
   "source": [
    "# Find the winner based on popular \n",
    "winner = max(candidate_count, key=candidate_count.get)\n",
    "\n",
    "# Print value to check\n",
    "print(winner)"
   ]
  },
  {
   "cell_type": "code",
   "execution_count": 56,
   "id": "c69bd658",
   "metadata": {},
   "outputs": [
    {
     "name": "stdout",
     "output_type": "stream",
     "text": [
      "Election Results\n",
      "----------------------\n",
      "Total Votes: 369711\n",
      "----------------------\n",
      "Charles Casper Stockham: 23.049 (85213)\n",
      "Diana DeGette: 73.812 (272892)\n",
      "Raymon Anthony Doane: 3.139 (11606)\n",
      "----------------------\n",
      "Winner: Diana DeGette\n",
      "----------------------\n"
     ]
    }
   ],
   "source": [
    "# Print Analysis within terminal\n",
    "print(\"Election Results\")\n",
    "print(\"----------------------\")\n",
    "print(f\"Total Votes: {total_votes}\") \n",
    "print(\"----------------------\")\n",
    "\n",
    "# Print information for each candidate\n",
    "for candidate in candidates:\n",
    "    votes = candidate_count[candidate]\n",
    "    percentage = (votes/total_votes) * 100        \n",
    "    print(f\"{candidate}: {percentage:.3f} ({votes})\")\n",
    "    \n",
    "print(\"----------------------\")\n",
    "print(f\"Winner: {winner}\") \n",
    "print(\"----------------------\")"
   ]
  },
  {
   "cell_type": "code",
   "execution_count": 59,
   "id": "7f7f1938",
   "metadata": {},
   "outputs": [],
   "source": [
    "# Export to a text file\n",
    "output_file = os.path.join(\"analysis\", \"Election_Analysis.txt\")\n",
    "with open(output_file, \"w\") as txtfile:\n",
    "    txtfile.write(\"Election Results\\n\")\n",
    "    txtfile.write(\"----------------------\\n\")\n",
    "    txtfile.write(f\"Total Votes: {total_votes}\\n\") \n",
    "    txtfile.write(\"----------------------\\n\")\n",
    "    for candidate in candidates:\n",
    "        votes = candidate_count[candidate]\n",
    "        percentage = (votes/total_votes) * 100        \n",
    "        txtfile.write(f\"{candidate}: {percentage:.3f} ({votes})\\n\")\n",
    "    txtfile.write(\"----------------------\\n\")\n",
    "    txtfile.write(f\"Winner: {winner}\\n\") \n",
    "    txtfile.write(\"----------------------\")"
   ]
  },
  {
   "cell_type": "code",
   "execution_count": null,
   "id": "f6e2106c",
   "metadata": {},
   "outputs": [],
   "source": []
  }
 ],
 "metadata": {
  "kernelspec": {
   "display_name": "Python 3 (ipykernel)",
   "language": "python",
   "name": "python3"
  },
  "language_info": {
   "codemirror_mode": {
    "name": "ipython",
    "version": 3
   },
   "file_extension": ".py",
   "mimetype": "text/x-python",
   "name": "python",
   "nbconvert_exporter": "python",
   "pygments_lexer": "ipython3",
   "version": "3.10.13"
  }
 },
 "nbformat": 4,
 "nbformat_minor": 5
}
